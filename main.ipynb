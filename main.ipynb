{
 "cells": [
  {
   "cell_type": "code",
   "execution_count": 1,
   "metadata": {},
   "outputs": [],
   "source": [
    "# Import necessary libraries\n",
    "import pandas as pd\n",
    "import numpy as np\n",
    "from surprise import Dataset, Reader, BaselineOnly, accuracy\n",
    "from surprise import AlgoBase, SVD\n",
    "from surprise.model_selection import cross_validate, GridSearchCV\n",
    "from surprise.model_selection.search import RandomizedSearchCV\n",
    "import copy\n",
    "import difflib\n",
    "import random\n",
    "import src.util as utils"
   ]
  },
  {
   "cell_type": "code",
   "execution_count": 2,
   "metadata": {},
   "outputs": [],
   "source": [
    "# Load config file\n",
    "config = utils.load_config()"
   ]
  },
  {
   "attachments": {},
   "cell_type": "markdown",
   "metadata": {},
   "source": [
    "# Data Preparation"
   ]
  },
  {
   "cell_type": "code",
   "execution_count": 3,
   "metadata": {},
   "outputs": [],
   "source": [
    "df = pd.read_csv(config['ratings_dataset_path'])\n",
    "df.columns=['user_id','item_id','rating']"
   ]
  },
  {
   "cell_type": "code",
   "execution_count": 4,
   "metadata": {},
   "outputs": [
    {
     "data": {
      "text/html": [
       "<div>\n",
       "<style scoped>\n",
       "    .dataframe tbody tr th:only-of-type {\n",
       "        vertical-align: middle;\n",
       "    }\n",
       "\n",
       "    .dataframe tbody tr th {\n",
       "        vertical-align: top;\n",
       "    }\n",
       "\n",
       "    .dataframe thead th {\n",
       "        text-align: right;\n",
       "    }\n",
       "</style>\n",
       "<table border=\"1\" class=\"dataframe\">\n",
       "  <thead>\n",
       "    <tr style=\"text-align: right;\">\n",
       "      <th></th>\n",
       "      <th>user_id</th>\n",
       "      <th>item_id</th>\n",
       "      <th>rating</th>\n",
       "    </tr>\n",
       "  </thead>\n",
       "  <tbody>\n",
       "    <tr>\n",
       "      <th>0</th>\n",
       "      <td>276725</td>\n",
       "      <td>034545104X</td>\n",
       "      <td>0</td>\n",
       "    </tr>\n",
       "    <tr>\n",
       "      <th>1</th>\n",
       "      <td>276726</td>\n",
       "      <td>0155061224</td>\n",
       "      <td>5</td>\n",
       "    </tr>\n",
       "    <tr>\n",
       "      <th>2</th>\n",
       "      <td>276727</td>\n",
       "      <td>0446520802</td>\n",
       "      <td>0</td>\n",
       "    </tr>\n",
       "    <tr>\n",
       "      <th>3</th>\n",
       "      <td>276729</td>\n",
       "      <td>052165615X</td>\n",
       "      <td>3</td>\n",
       "    </tr>\n",
       "    <tr>\n",
       "      <th>4</th>\n",
       "      <td>276729</td>\n",
       "      <td>0521795028</td>\n",
       "      <td>6</td>\n",
       "    </tr>\n",
       "    <tr>\n",
       "      <th>...</th>\n",
       "      <td>...</td>\n",
       "      <td>...</td>\n",
       "      <td>...</td>\n",
       "    </tr>\n",
       "    <tr>\n",
       "      <th>1149775</th>\n",
       "      <td>276704</td>\n",
       "      <td>1563526298</td>\n",
       "      <td>9</td>\n",
       "    </tr>\n",
       "    <tr>\n",
       "      <th>1149776</th>\n",
       "      <td>276706</td>\n",
       "      <td>0679447156</td>\n",
       "      <td>0</td>\n",
       "    </tr>\n",
       "    <tr>\n",
       "      <th>1149777</th>\n",
       "      <td>276709</td>\n",
       "      <td>0515107662</td>\n",
       "      <td>10</td>\n",
       "    </tr>\n",
       "    <tr>\n",
       "      <th>1149778</th>\n",
       "      <td>276721</td>\n",
       "      <td>0590442449</td>\n",
       "      <td>10</td>\n",
       "    </tr>\n",
       "    <tr>\n",
       "      <th>1149779</th>\n",
       "      <td>276723</td>\n",
       "      <td>05162443314</td>\n",
       "      <td>8</td>\n",
       "    </tr>\n",
       "  </tbody>\n",
       "</table>\n",
       "<p>1149780 rows × 3 columns</p>\n",
       "</div>"
      ],
      "text/plain": [
       "         user_id      item_id  rating\n",
       "0         276725   034545104X       0\n",
       "1         276726   0155061224       5\n",
       "2         276727   0446520802       0\n",
       "3         276729   052165615X       3\n",
       "4         276729   0521795028       6\n",
       "...          ...          ...     ...\n",
       "1149775   276704   1563526298       9\n",
       "1149776   276706   0679447156       0\n",
       "1149777   276709   0515107662      10\n",
       "1149778   276721   0590442449      10\n",
       "1149779   276723  05162443314       8\n",
       "\n",
       "[1149780 rows x 3 columns]"
      ]
     },
     "execution_count": 4,
     "metadata": {},
     "output_type": "execute_result"
    }
   ],
   "source": [
    "df"
   ]
  },
  {
   "cell_type": "code",
   "execution_count": 5,
   "metadata": {},
   "outputs": [],
   "source": [
    "def load_books_data(book_path):\n",
    "    \"\"\"\n",
    "    Load movie data from the given path\n",
    "\n",
    "    Parameters\n",
    "    ----------\n",
    "    movie_path : str\n",
    "        The movie data path\n",
    "\n",
    "    Returns\n",
    "    -------\n",
    "    book_data : pandas DataFrame\n",
    "        The books metadata\n",
    "    \"\"\"\n",
    "    # Load data\n",
    "    book_data = pd.read_csv(book_path,\n",
    "                             index_col='ISBN',\n",
    "                             delimiter=',')\n",
    "\n",
    "    print('Books data shape :', book_data.shape)\n",
    "    return book_data"
   ]
  },
  {
   "cell_type": "code",
   "execution_count": 6,
   "metadata": {},
   "outputs": [
    {
     "name": "stdout",
     "output_type": "stream",
     "text": [
      "Books data shape : (271360, 7)\n"
     ]
    },
    {
     "name": "stderr",
     "output_type": "stream",
     "text": [
      "C:\\Users\\HardoTriwahyu\\AppData\\Local\\Temp\\ipykernel_17436\\68037571.py:16: DtypeWarning: Columns (3) have mixed types. Specify dtype option on import or set low_memory=False.\n",
      "  book_data = pd.read_csv(book_path,\n"
     ]
    }
   ],
   "source": [
    "book_data = load_books_data('dataset/Books.csv')"
   ]
  },
  {
   "cell_type": "code",
   "execution_count": 7,
   "metadata": {},
   "outputs": [
    {
     "data": {
      "text/html": [
       "<div>\n",
       "<style scoped>\n",
       "    .dataframe tbody tr th:only-of-type {\n",
       "        vertical-align: middle;\n",
       "    }\n",
       "\n",
       "    .dataframe tbody tr th {\n",
       "        vertical-align: top;\n",
       "    }\n",
       "\n",
       "    .dataframe thead th {\n",
       "        text-align: right;\n",
       "    }\n",
       "</style>\n",
       "<table border=\"1\" class=\"dataframe\">\n",
       "  <thead>\n",
       "    <tr style=\"text-align: right;\">\n",
       "      <th></th>\n",
       "      <th>title</th>\n",
       "      <th>author</th>\n",
       "      <th>year</th>\n",
       "      <th>publisher</th>\n",
       "      <th>Image-URL-S</th>\n",
       "      <th>Image-URL-M</th>\n",
       "      <th>Image-URL-L</th>\n",
       "    </tr>\n",
       "    <tr>\n",
       "      <th>ISBN</th>\n",
       "      <th></th>\n",
       "      <th></th>\n",
       "      <th></th>\n",
       "      <th></th>\n",
       "      <th></th>\n",
       "      <th></th>\n",
       "      <th></th>\n",
       "    </tr>\n",
       "  </thead>\n",
       "  <tbody>\n",
       "    <tr>\n",
       "      <th>0195153448</th>\n",
       "      <td>Classical Mythology</td>\n",
       "      <td>Mark P. O. Morford</td>\n",
       "      <td>2002</td>\n",
       "      <td>Oxford University Press</td>\n",
       "      <td>http://images.amazon.com/images/P/0195153448.0...</td>\n",
       "      <td>http://images.amazon.com/images/P/0195153448.0...</td>\n",
       "      <td>http://images.amazon.com/images/P/0195153448.0...</td>\n",
       "    </tr>\n",
       "    <tr>\n",
       "      <th>0002005018</th>\n",
       "      <td>Clara Callan</td>\n",
       "      <td>Richard Bruce Wright</td>\n",
       "      <td>2001</td>\n",
       "      <td>HarperFlamingo Canada</td>\n",
       "      <td>http://images.amazon.com/images/P/0002005018.0...</td>\n",
       "      <td>http://images.amazon.com/images/P/0002005018.0...</td>\n",
       "      <td>http://images.amazon.com/images/P/0002005018.0...</td>\n",
       "    </tr>\n",
       "    <tr>\n",
       "      <th>0060973129</th>\n",
       "      <td>Decision in Normandy</td>\n",
       "      <td>Carlo D'Este</td>\n",
       "      <td>1991</td>\n",
       "      <td>HarperPerennial</td>\n",
       "      <td>http://images.amazon.com/images/P/0060973129.0...</td>\n",
       "      <td>http://images.amazon.com/images/P/0060973129.0...</td>\n",
       "      <td>http://images.amazon.com/images/P/0060973129.0...</td>\n",
       "    </tr>\n",
       "    <tr>\n",
       "      <th>0374157065</th>\n",
       "      <td>Flu: The Story of the Great Influenza Pandemic...</td>\n",
       "      <td>Gina Bari Kolata</td>\n",
       "      <td>1999</td>\n",
       "      <td>Farrar Straus Giroux</td>\n",
       "      <td>http://images.amazon.com/images/P/0374157065.0...</td>\n",
       "      <td>http://images.amazon.com/images/P/0374157065.0...</td>\n",
       "      <td>http://images.amazon.com/images/P/0374157065.0...</td>\n",
       "    </tr>\n",
       "    <tr>\n",
       "      <th>0393045218</th>\n",
       "      <td>The Mummies of Urumchi</td>\n",
       "      <td>E. J. W. Barber</td>\n",
       "      <td>1999</td>\n",
       "      <td>W. W. Norton &amp;amp; Company</td>\n",
       "      <td>http://images.amazon.com/images/P/0393045218.0...</td>\n",
       "      <td>http://images.amazon.com/images/P/0393045218.0...</td>\n",
       "      <td>http://images.amazon.com/images/P/0393045218.0...</td>\n",
       "    </tr>\n",
       "  </tbody>\n",
       "</table>\n",
       "</div>"
      ],
      "text/plain": [
       "                                                        title  \\\n",
       "ISBN                                                            \n",
       "0195153448                                Classical Mythology   \n",
       "0002005018                                       Clara Callan   \n",
       "0060973129                               Decision in Normandy   \n",
       "0374157065  Flu: The Story of the Great Influenza Pandemic...   \n",
       "0393045218                             The Mummies of Urumchi   \n",
       "\n",
       "                          author  year                   publisher  \\\n",
       "ISBN                                                                 \n",
       "0195153448    Mark P. O. Morford  2002     Oxford University Press   \n",
       "0002005018  Richard Bruce Wright  2001       HarperFlamingo Canada   \n",
       "0060973129          Carlo D'Este  1991             HarperPerennial   \n",
       "0374157065      Gina Bari Kolata  1999        Farrar Straus Giroux   \n",
       "0393045218       E. J. W. Barber  1999  W. W. Norton &amp; Company   \n",
       "\n",
       "                                                  Image-URL-S  \\\n",
       "ISBN                                                            \n",
       "0195153448  http://images.amazon.com/images/P/0195153448.0...   \n",
       "0002005018  http://images.amazon.com/images/P/0002005018.0...   \n",
       "0060973129  http://images.amazon.com/images/P/0060973129.0...   \n",
       "0374157065  http://images.amazon.com/images/P/0374157065.0...   \n",
       "0393045218  http://images.amazon.com/images/P/0393045218.0...   \n",
       "\n",
       "                                                  Image-URL-M  \\\n",
       "ISBN                                                            \n",
       "0195153448  http://images.amazon.com/images/P/0195153448.0...   \n",
       "0002005018  http://images.amazon.com/images/P/0002005018.0...   \n",
       "0060973129  http://images.amazon.com/images/P/0060973129.0...   \n",
       "0374157065  http://images.amazon.com/images/P/0374157065.0...   \n",
       "0393045218  http://images.amazon.com/images/P/0393045218.0...   \n",
       "\n",
       "                                                  Image-URL-L  \n",
       "ISBN                                                           \n",
       "0195153448  http://images.amazon.com/images/P/0195153448.0...  \n",
       "0002005018  http://images.amazon.com/images/P/0002005018.0...  \n",
       "0060973129  http://images.amazon.com/images/P/0060973129.0...  \n",
       "0374157065  http://images.amazon.com/images/P/0374157065.0...  \n",
       "0393045218  http://images.amazon.com/images/P/0393045218.0...  "
      ]
     },
     "execution_count": 7,
     "metadata": {},
     "output_type": "execute_result"
    }
   ],
   "source": [
    "col_rename_dict = {\n",
    "    'Book-Title': 'title',\n",
    "    'Book-Author': 'author',\n",
    "    'Year-Of-Publication': 'year',\n",
    "    'Publisher': 'publisher'\n",
    "}\n",
    "\n",
    "book_data.rename(columns=col_rename_dict, inplace=True)\n",
    "\n",
    "book_data.head()"
   ]
  },
  {
   "cell_type": "code",
   "execution_count": 8,
   "metadata": {},
   "outputs": [
    {
     "name": "stdout",
     "output_type": "stream",
     "text": [
      "<class 'surprise.dataset.DatasetAutoFolds'>\n"
     ]
    }
   ],
   "source": [
    "reader = Reader(rating_scale=(1,10))\n",
    "data = Dataset.load_from_df(df[['user_id','item_id','rating']], reader)\n",
    "\n",
    "print(type(data))"
   ]
  },
  {
   "cell_type": "code",
   "execution_count": 9,
   "metadata": {},
   "outputs": [
    {
     "data": {
      "text/html": [
       "<div>\n",
       "<style scoped>\n",
       "    .dataframe tbody tr th:only-of-type {\n",
       "        vertical-align: middle;\n",
       "    }\n",
       "\n",
       "    .dataframe tbody tr th {\n",
       "        vertical-align: top;\n",
       "    }\n",
       "\n",
       "    .dataframe thead th {\n",
       "        text-align: right;\n",
       "    }\n",
       "</style>\n",
       "<table border=\"1\" class=\"dataframe\">\n",
       "  <thead>\n",
       "    <tr style=\"text-align: right;\">\n",
       "      <th></th>\n",
       "      <th>user_id</th>\n",
       "      <th>item_id</th>\n",
       "      <th>rating</th>\n",
       "    </tr>\n",
       "  </thead>\n",
       "  <tbody>\n",
       "    <tr>\n",
       "      <th>0</th>\n",
       "      <td>276725</td>\n",
       "      <td>034545104X</td>\n",
       "      <td>0</td>\n",
       "    </tr>\n",
       "    <tr>\n",
       "      <th>1</th>\n",
       "      <td>276726</td>\n",
       "      <td>0155061224</td>\n",
       "      <td>5</td>\n",
       "    </tr>\n",
       "    <tr>\n",
       "      <th>2</th>\n",
       "      <td>276727</td>\n",
       "      <td>0446520802</td>\n",
       "      <td>0</td>\n",
       "    </tr>\n",
       "    <tr>\n",
       "      <th>3</th>\n",
       "      <td>276729</td>\n",
       "      <td>052165615X</td>\n",
       "      <td>3</td>\n",
       "    </tr>\n",
       "    <tr>\n",
       "      <th>4</th>\n",
       "      <td>276729</td>\n",
       "      <td>0521795028</td>\n",
       "      <td>6</td>\n",
       "    </tr>\n",
       "  </tbody>\n",
       "</table>\n",
       "</div>"
      ],
      "text/plain": [
       "   user_id     item_id  rating\n",
       "0   276725  034545104X       0\n",
       "1   276726  0155061224       5\n",
       "2   276727  0446520802       0\n",
       "3   276729  052165615X       3\n",
       "4   276729  0521795028       6"
      ]
     },
     "execution_count": 9,
     "metadata": {},
     "output_type": "execute_result"
    }
   ],
   "source": [
    "data.df.head()"
   ]
  },
  {
   "attachments": {},
   "cell_type": "markdown",
   "metadata": {},
   "source": [
    "## Data Splitting"
   ]
  },
  {
   "cell_type": "code",
   "execution_count": 10,
   "metadata": {},
   "outputs": [],
   "source": [
    "# Create a function\n",
    "def train_test_split(utility_data, test_size, random_state=42):\n",
    "    \"\"\"\n",
    "    Train test split the data\n",
    "    ref: https://surprise.readthedocs.io/en/stable/FAQ.html#split-data-for-unbiased-estimation-py\n",
    "\n",
    "    Parameters\n",
    "    ----------\n",
    "    utility_data : Surprise utility data\n",
    "        The sample of whole data set\n",
    "\n",
    "    test_size : float, default=0.2\n",
    "        The test size\n",
    "\n",
    "    random_state : int, default=42\n",
    "        For reproducibility\n",
    "\n",
    "    Returns\n",
    "    -------\n",
    "    full_data : Surprise utility data\n",
    "        The new utility data\n",
    "\n",
    "    train_data : Surprise format\n",
    "        The train data\n",
    "\n",
    "    test_data : Surprise format\n",
    "        The test data\n",
    "    \"\"\"\n",
    "    \n",
    "    # Deep copy the utility_data\n",
    "    full_data = copy.deepcopy(utility_data)\n",
    "\n",
    "    # Generate random seed\n",
    "    np.random.seed(random_state)\n",
    "\n",
    "    # Shuffle the raw_ratings for reproducibility\n",
    "    raw_ratings = full_data.raw_ratings\n",
    "    np.random.shuffle(raw_ratings)\n",
    "\n",
    "    # Define the threshold\n",
    "    threshold = int((1-test_size) * len(raw_ratings))\n",
    "\n",
    "    # Split the data\n",
    "    train_raw_ratings = raw_ratings[:threshold]\n",
    "    test_raw_ratings = raw_ratings[threshold:]\n",
    "\n",
    "    # Get the data\n",
    "    full_data.raw_ratings = train_raw_ratings\n",
    "    train_data = full_data.build_full_trainset()\n",
    "    test_data = full_data.construct_testset(test_raw_ratings)\n",
    "\n",
    "    return full_data, train_data, test_data\n"
   ]
  },
  {
   "cell_type": "code",
   "execution_count": 11,
   "metadata": {},
   "outputs": [],
   "source": [
    "# Split the data\n",
    "full_data, train_data, test_data = train_test_split(data,\n",
    "                                                    test_size = 0.2,\n",
    "                                                    random_state = 42)"
   ]
  },
  {
   "cell_type": "code",
   "execution_count": 12,
   "metadata": {},
   "outputs": [
    {
     "data": {
      "text/plain": [
       "(surprise.dataset.DatasetAutoFolds, surprise.trainset.Trainset, list)"
      ]
     },
     "execution_count": 12,
     "metadata": {},
     "output_type": "execute_result"
    }
   ],
   "source": [
    "type(full_data), type(train_data), type(test_data)"
   ]
  },
  {
   "cell_type": "code",
   "execution_count": 13,
   "metadata": {},
   "outputs": [
    {
     "data": {
      "text/plain": [
       "(1149780, 919824, 229956)"
      ]
     },
     "execution_count": 13,
     "metadata": {},
     "output_type": "execute_result"
    }
   ],
   "source": [
    "# Validate the splitting\n",
    "len(full_data.df), train_data.n_ratings, len(test_data)"
   ]
  },
  {
   "attachments": {},
   "cell_type": "markdown",
   "metadata": {},
   "source": [
    "# Creating Model"
   ]
  },
  {
   "attachments": {},
   "cell_type": "markdown",
   "metadata": {},
   "source": [
    "## Experimenting"
   ]
  },
  {
   "cell_type": "code",
   "execution_count": 14,
   "metadata": {},
   "outputs": [],
   "source": [
    "class MeanPrediction(AlgoBase):\n",
    "    '''Baseline prediction. Return global mean as prediction'''\n",
    "    def __init__(self):\n",
    "        AlgoBase.__init__(self)\n",
    "\n",
    "    def fit(self, trainset):\n",
    "        '''Fit the train data'''\n",
    "        AlgoBase.fit(self, trainset)\n",
    "\n",
    "    def estimate(self, u, i):\n",
    "        '''Perform the estimation/prediction.'''\n",
    "        est = self.trainset.global_mean\n",
    "        return est"
   ]
  },
  {
   "cell_type": "code",
   "execution_count": 15,
   "metadata": {},
   "outputs": [
    {
     "data": {
      "text/plain": [
       "<__main__.MeanPrediction at 0x2b7202914d0>"
      ]
     },
     "execution_count": 15,
     "metadata": {},
     "output_type": "execute_result"
    }
   ],
   "source": [
    "# Creating baseline model instance\n",
    "baseline_model = MeanPrediction()\n",
    "baseline_model"
   ]
  },
  {
   "cell_type": "code",
   "execution_count": 16,
   "metadata": {},
   "outputs": [],
   "source": [
    "# Use full_data for cross validation\n",
    "# Your results could be different because\n",
    "# there is no random seed stated within this functions\n",
    "cv_baseline = cross_validate(algo = baseline_model,\n",
    "                             data = full_data,\n",
    "                             cv = 5,\n",
    "                             measures = ['rmse'])"
   ]
  },
  {
   "cell_type": "code",
   "execution_count": 17,
   "metadata": {},
   "outputs": [
    {
     "data": {
      "text/plain": [
       "3.8531953449278733"
      ]
     },
     "execution_count": 17,
     "metadata": {},
     "output_type": "execute_result"
    }
   ],
   "source": [
    "# Extract CV results\n",
    "cv_baseline_rmse = cv_baseline['test_rmse'].mean()\n",
    "cv_baseline_rmse"
   ]
  },
  {
   "attachments": {},
   "cell_type": "markdown",
   "metadata": {},
   "source": [
    "## Hyperparameter Tuning for SVD"
   ]
  },
  {
   "attachments": {},
   "cell_type": "markdown",
   "metadata": {},
   "source": [
    "PS: you can skip this if you just want to create the model"
   ]
  },
  {
   "cell_type": "code",
   "execution_count": 18,
   "metadata": {},
   "outputs": [],
   "source": [
    "params_SVD = {\n",
    "    'lr_all': [0.005, 0.002, 0.001, 0.0005],\n",
    "    'n_factors': [20, 50, 75, 125, 150, 250],\n",
    "    'reg_all': [0.005, 0.01, 0.015, 0.02, 0.03, 0.05],\n",
    "    'n_epochs': [10, 20, 30, 50, 70, 100]\n",
    "}"
   ]
  },
  {
   "cell_type": "code",
   "execution_count": 19,
   "metadata": {},
   "outputs": [],
   "source": [
    "tuning_svd = RandomizedSearchCV(algo_class=SVD, param_distributions = params_SVD,\n",
    "                   cv=5\n",
    "                   )"
   ]
  },
  {
   "cell_type": "code",
   "execution_count": 20,
   "metadata": {},
   "outputs": [],
   "source": [
    "tuning_svd.fit(data=full_data)"
   ]
  },
  {
   "cell_type": "code",
   "execution_count": 21,
   "metadata": {},
   "outputs": [
    {
     "data": {
      "text/plain": [
       "{'lr_all': 0.0005, 'n_factors': 50, 'reg_all': 0.01, 'n_epochs': 50}"
      ]
     },
     "execution_count": 21,
     "metadata": {},
     "output_type": "execute_result"
    }
   ],
   "source": [
    "best_params_svd = tuning_svd.best_params['rmse']\n",
    "tuning_svd.best_params['rmse']"
   ]
  },
  {
   "cell_type": "code",
   "execution_count": 30,
   "metadata": {},
   "outputs": [
    {
     "data": {
      "text/html": [
       "<div>\n",
       "<style scoped>\n",
       "    .dataframe tbody tr th:only-of-type {\n",
       "        vertical-align: middle;\n",
       "    }\n",
       "\n",
       "    .dataframe tbody tr th {\n",
       "        vertical-align: top;\n",
       "    }\n",
       "\n",
       "    .dataframe thead th {\n",
       "        text-align: right;\n",
       "    }\n",
       "</style>\n",
       "<table border=\"1\" class=\"dataframe\">\n",
       "  <thead>\n",
       "    <tr style=\"text-align: right;\">\n",
       "      <th></th>\n",
       "      <th>Model</th>\n",
       "      <th>CV Performance - RMSE</th>\n",
       "      <th>Model Condiguration</th>\n",
       "    </tr>\n",
       "  </thead>\n",
       "  <tbody>\n",
       "    <tr>\n",
       "      <th>0</th>\n",
       "      <td>Baseline</td>\n",
       "      <td>3.853195</td>\n",
       "      <td>N/A</td>\n",
       "    </tr>\n",
       "    <tr>\n",
       "      <th>1</th>\n",
       "      <td>Funk SVD</td>\n",
       "      <td>3.455943</td>\n",
       "      <td>{'lr_all': 0.0005, 'n_factors': 50, 'reg_all':...</td>\n",
       "    </tr>\n",
       "  </tbody>\n",
       "</table>\n",
       "</div>"
      ],
      "text/plain": [
       "      Model  CV Performance - RMSE  \\\n",
       "0  Baseline               3.853195   \n",
       "1  Funk SVD               3.455943   \n",
       "\n",
       "                                 Model Condiguration  \n",
       "0                                                N/A  \n",
       "1  {'lr_all': 0.0005, 'n_factors': 50, 'reg_all':...  "
      ]
     },
     "execution_count": 30,
     "metadata": {},
     "output_type": "execute_result"
    }
   ],
   "source": [
    "summary_df = pd.DataFrame({'Model': ['Baseline', 'Funk SVD'],\n",
    "                           'CV Performance - RMSE': [cv_baseline_rmse,tuning_svd.best_score['rmse'] ],\n",
    "                           'Model Condiguration':['N/A',f'{tuning_svd.best_params[\"rmse\"]}']})\n",
    "\n",
    "summary_df"
   ]
  },
  {
   "attachments": {},
   "cell_type": "markdown",
   "metadata": {},
   "source": [
    "## Train the model with best hyperparams"
   ]
  },
  {
   "cell_type": "code",
   "execution_count": null,
   "metadata": {},
   "outputs": [],
   "source": [
    "# only run this if you didn't run the hyperparameter tuning process\n",
    "best_params_svd = {'lr_all': 0.0005, 'n_factors': 50, 'reg_all': 0.01, 'n_epochs': 50}"
   ]
  },
  {
   "cell_type": "code",
   "execution_count": 31,
   "metadata": {},
   "outputs": [
    {
     "data": {
      "text/plain": [
       "<surprise.prediction_algorithms.matrix_factorization.SVD at 0x2b77370ed50>"
      ]
     },
     "execution_count": 31,
     "metadata": {},
     "output_type": "execute_result"
    }
   ],
   "source": [
    "# Create object\n",
    "svd_model = SVD(**best_params_svd)\n",
    "\n",
    "# Retrain on whole train dataset\n",
    "svd_model.fit(train_data)"
   ]
  },
  {
   "attachments": {},
   "cell_type": "markdown",
   "metadata": {},
   "source": [
    "## Save model as Pickle file"
   ]
  },
  {
   "cell_type": "code",
   "execution_count": 32,
   "metadata": {},
   "outputs": [],
   "source": [
    "utils.pickle_dump(svd_model, config['svd_model_path'])"
   ]
  },
  {
   "attachments": {},
   "cell_type": "markdown",
   "metadata": {},
   "source": [
    "## Evaluating the Best Model"
   ]
  },
  {
   "cell_type": "code",
   "execution_count": 33,
   "metadata": {},
   "outputs": [
    {
     "name": "stdout",
     "output_type": "stream",
     "text": [
      "RMSE: 3.4498\n"
     ]
    },
    {
     "data": {
      "text/plain": [
       "3.449829836167209"
      ]
     },
     "execution_count": 33,
     "metadata": {},
     "output_type": "execute_result"
    }
   ],
   "source": [
    "test_pred = svd_model.test(test_data)\n",
    "test_rmse = accuracy.rmse(test_pred)\n",
    "test_rmse"
   ]
  },
  {
   "cell_type": "code",
   "execution_count": 34,
   "metadata": {},
   "outputs": [
    {
     "data": {
      "text/html": [
       "<div>\n",
       "<style scoped>\n",
       "    .dataframe tbody tr th:only-of-type {\n",
       "        vertical-align: middle;\n",
       "    }\n",
       "\n",
       "    .dataframe tbody tr th {\n",
       "        vertical-align: top;\n",
       "    }\n",
       "\n",
       "    .dataframe thead th {\n",
       "        text-align: right;\n",
       "    }\n",
       "</style>\n",
       "<table border=\"1\" class=\"dataframe\">\n",
       "  <thead>\n",
       "    <tr style=\"text-align: right;\">\n",
       "      <th></th>\n",
       "      <th>Model</th>\n",
       "      <th>RMSE-Tuning</th>\n",
       "      <th>RMSE-Test</th>\n",
       "    </tr>\n",
       "  </thead>\n",
       "  <tbody>\n",
       "    <tr>\n",
       "      <th>0</th>\n",
       "      <td>User to User CF</td>\n",
       "      <td>3.455943</td>\n",
       "      <td>3.44983</td>\n",
       "    </tr>\n",
       "  </tbody>\n",
       "</table>\n",
       "</div>"
      ],
      "text/plain": [
       "             Model  RMSE-Tuning  RMSE-Test\n",
       "0  User to User CF     3.455943    3.44983"
      ]
     },
     "execution_count": 34,
     "metadata": {},
     "output_type": "execute_result"
    }
   ],
   "source": [
    "summary_test_df = pd.DataFrame({'Model' : ['User to User CF'],\n",
    "                                'RMSE-Tuning': [tuning_svd.best_score['rmse']],\n",
    "                                'RMSE-Test': [test_rmse]})\n",
    "\n",
    "summary_test_df"
   ]
  },
  {
   "attachments": {},
   "cell_type": "markdown",
   "metadata": {},
   "source": [
    "# Prediction"
   ]
  },
  {
   "attachments": {},
   "cell_type": "markdown",
   "metadata": {},
   "source": [
    "## Predict with Best Model"
   ]
  },
  {
   "cell_type": "code",
   "execution_count": 35,
   "metadata": {},
   "outputs": [],
   "source": [
    "sample_prediction = svd_model.predict(uid = 9,\n",
    "                                      iid = 10)"
   ]
  },
  {
   "cell_type": "code",
   "execution_count": 36,
   "metadata": {},
   "outputs": [
    {
     "data": {
      "text/plain": [
       "Prediction(uid=9, iid=10, r_ui=None, est=2.8507843906667447, details={'was_impossible': False})"
      ]
     },
     "execution_count": 36,
     "metadata": {},
     "output_type": "execute_result"
    }
   ],
   "source": [
    "sample_prediction"
   ]
  },
  {
   "cell_type": "code",
   "execution_count": 49,
   "metadata": {},
   "outputs": [],
   "source": [
    "# Let's create a function\n",
    "def get_unrated_item(userid, rating_data):\n",
    "    \"\"\"\n",
    "    Get unrated item id from a user id\n",
    "\n",
    "    Parameters\n",
    "    ----------\n",
    "    userid : int\n",
    "        The user id\n",
    "\n",
    "    rating_data : pandas DataFrame\n",
    "        The rating data\n",
    "\n",
    "    Returns\n",
    "    -------\n",
    "    unrated_item_id : set\n",
    "        The unrated item id\n",
    "    \"\"\"\n",
    "    # Find the whole item id\n",
    "    unique_item_id = set(rating_data['item_id'])\n",
    "\n",
    "    # Find the item id that was rated by user id\n",
    "    rated_item_id = set(rating_data.loc[rating_data['user_id']==userid, 'item_id'])\n",
    "\n",
    "    # Find the unrated item id\n",
    "    unrated_item_id = unique_item_id.difference(rated_item_id)\n",
    "\n",
    "    return unrated_item_id\n"
   ]
  },
  {
   "attachments": {},
   "cell_type": "markdown",
   "metadata": {},
   "source": [
    "### Predict book randomly"
   ]
  },
  {
   "cell_type": "code",
   "execution_count": 38,
   "metadata": {},
   "outputs": [],
   "source": [
    "def get_book_id(book_title, metadata):\n",
    "    existing_titles = list(metadata['title'])\n",
    "    closest_titles = difflib.get_close_matches(book_title, existing_titles)\n",
    "    book_id = metadata[metadata['title'] == closest_titles[0]].index[0]\n",
    "    \n",
    "    return book_id"
   ]
  },
  {
   "cell_type": "code",
   "execution_count": 39,
   "metadata": {},
   "outputs": [],
   "source": [
    "def get_book_info(book_id, metadata):\n",
    "    book_info = metadata.loc[book_id, :]\n",
    "    return book_info.to_dict()"
   ]
  },
  {
   "cell_type": "code",
   "execution_count": 40,
   "metadata": {},
   "outputs": [],
   "source": [
    "def predict_review_by_title(user_id, book_title, model, metadata):\n",
    "    book_id = get_book_id(book_title, metadata)\n",
    "    review_prediction = model.predict(uid = user_id, iid = book_id)\n",
    "    \n",
    "    return review_prediction.est"
   ]
  },
  {
   "cell_type": "code",
   "execution_count": 41,
   "metadata": {},
   "outputs": [],
   "source": [
    "def predict_review_by_id(user_id, item_id, model, metadata):\n",
    "    review_prediction = model.predict(uid = user_id, iid = item_id)\n",
    "    \n",
    "    return review_prediction.est"
   ]
  },
  {
   "cell_type": "code",
   "execution_count": 73,
   "metadata": {},
   "outputs": [],
   "source": [
    "def generate_recommendation(user_id, model, metadata, thresh = 3.5):\n",
    "    book_titles = list(metadata['title'].values)\n",
    "    random.shuffle(book_titles)\n",
    "    \n",
    "    for book_title in book_titles:\n",
    "        rating = predict_review_by_title(user_id, book_title, model, metadata)\n",
    "        print(book_title, rating) \n",
    "        if rating > thresh:\n",
    "            book_id = get_book_id(book_title, metadata)\n",
    "            return get_book_info(book_id, metadata)"
   ]
  },
  {
   "cell_type": "code",
   "execution_count": 60,
   "metadata": {},
   "outputs": [],
   "source": [
    "def generate_recommendation(user_id, model, rating_data, metadata, thresh = 3.5):\n",
    "    unrated_book_id = list(get_unrated_item(user_id, rating_data))\n",
    "    # print(unrated_book_id[:5])\n",
    "    random.shuffle(unrated_book_id)\n",
    "    \n",
    "    for book_id in unrated_book_id:\n",
    "        rating = predict_review_by_id(user_id, book_id, model, metadata)\n",
    "        print(book_id, rating) \n",
    "        if rating > thresh:\n",
    "            return get_book_info(book_id, metadata)"
   ]
  },
  {
   "cell_type": "code",
   "execution_count": 62,
   "metadata": {},
   "outputs": [
    {
     "name": "stdout",
     "output_type": "stream",
     "text": [
      "0060392517 2.949912053160439\n"
     ]
    },
    {
     "data": {
      "text/plain": [
       "{'title': 'Judy Garland, Ginger Love',\n",
       " 'author': 'Nicole Cooley',\n",
       " 'year': 1998,\n",
       " 'publisher': 'ReganBooks',\n",
       " 'Image-URL-S': 'http://images.amazon.com/images/P/0060392517.01.THUMBZZZ.jpg',\n",
       " 'Image-URL-M': 'http://images.amazon.com/images/P/0060392517.01.MZZZZZZZ.jpg',\n",
       " 'Image-URL-L': 'http://images.amazon.com/images/P/0060392517.01.LZZZZZZZ.jpg'}"
      ]
     },
     "execution_count": 62,
     "metadata": {},
     "output_type": "execute_result"
    }
   ],
   "source": [
    "generate_recommendation(10, svd_model, df, book_data, thresh = 2)"
   ]
  },
  {
   "attachments": {},
   "cell_type": "markdown",
   "metadata": {},
   "source": [
    "### Generate top 5 rated books for certain user"
   ]
  },
  {
   "cell_type": "code",
   "execution_count": 63,
   "metadata": {},
   "outputs": [],
   "source": [
    "# Let's create this into a function\n",
    "def get_pred_unrated_item(userid, estimator, unrated_item_id):\n",
    "    \"\"\"\n",
    "    Get the predicted unrated item id from user id\n",
    "\n",
    "    Parameters\n",
    "    ----------\n",
    "    userid : int\n",
    "        The user id\n",
    "\n",
    "    estimator : Surprise object\n",
    "        The estimator\n",
    "\n",
    "    unrated_item_id : set\n",
    "        The unrated item id\n",
    "\n",
    "    Returns\n",
    "    -------\n",
    "    pred_data : pandas Dataframe\n",
    "        The predicted rating of unrated item of user id\n",
    "    \"\"\"\n",
    "    # Initialize dict\n",
    "    pred_dict = {\n",
    "        'user_id': userid,\n",
    "        'item_id': [],\n",
    "        'predicted_rating': []\n",
    "    }\n",
    "\n",
    "    # Loop for over all unrated movie Id\n",
    "    for id in unrated_item_id:\n",
    "        # Create a prediction\n",
    "        pred_id = estimator.predict(uid = pred_dict['user_id'],\n",
    "                                    iid = id)\n",
    "\n",
    "        # Append\n",
    "        pred_dict['item_id'].append(id)\n",
    "        pred_dict['predicted_rating'].append(pred_id.est)\n",
    "\n",
    "    # Create a dataframe\n",
    "    pred_data = pd.DataFrame(pred_dict).sort_values('predicted_rating',\n",
    "                                                     ascending = False)\n",
    "\n",
    "    return pred_data"
   ]
  },
  {
   "cell_type": "code",
   "execution_count": 71,
   "metadata": {},
   "outputs": [],
   "source": [
    "def get_top_highest_unrated(estimator, k, userid, rating_data, metadata):\n",
    "    \"\"\"\n",
    "    Get top k highest of unrated movie from a Surprise estimator RecSys\n",
    "\n",
    "    Parameters\n",
    "    ----------\n",
    "    estimator : Surprise model\n",
    "        The RecSys model\n",
    "\n",
    "    k : int\n",
    "        The number of Recommendations\n",
    "\n",
    "    userid : int\n",
    "        The user Id to recommend\n",
    "\n",
    "    rating_data : pandas Data Frame\n",
    "        The rating data\n",
    "\n",
    "    movie_data : pandas DataFrame\n",
    "        The movie meta data\n",
    "\n",
    "    Returns\n",
    "    -------\n",
    "    top_item_pred : pandas DataFrame\n",
    "        The top items recommendations\n",
    "    \"\"\"\n",
    "    # 1. Get the unrated item id of a user id\n",
    "    unrated_item_id = get_unrated_item(userid=userid, rating_data=rating_data)\n",
    "\n",
    "    # 2. Create prediction from estimator to all unrated item id\n",
    "    predicted_unrated_item = get_pred_unrated_item(userid = userid,\n",
    "                                                   estimator = estimator,\n",
    "                                                   unrated_item_id = unrated_item_id)\n",
    "\n",
    "    # 3. Sort & add meta data\n",
    "    top_item_pred = predicted_unrated_item.head(k).copy()\n",
    "    print(top_item_pred)\n",
    "    top_item_pred_detail = metadata.loc[top_item_pred['item_id'], :]\n",
    "    # top_item_pred['genres'] = metadata.loc[top_item_pred['item_id'], 'genres'].values\n",
    "\n",
    "    return top_item_pred_detail\n"
   ]
  },
  {
   "cell_type": "code",
   "execution_count": 80,
   "metadata": {},
   "outputs": [
    {
     "name": "stdout",
     "output_type": "stream",
     "text": [
      "        user_id     item_id  predicted_rating\n",
      "245268      100  1844262553          6.277151\n",
      "284438      100  0590353403          6.120859\n",
      "47839       100  0439139597          6.080721\n",
      "22430       100  0439136350          6.016197\n",
      "171894      100  0439064864          5.833320\n"
     ]
    },
    {
     "data": {
      "text/html": [
       "<div>\n",
       "<style scoped>\n",
       "    .dataframe tbody tr th:only-of-type {\n",
       "        vertical-align: middle;\n",
       "    }\n",
       "\n",
       "    .dataframe tbody tr th {\n",
       "        vertical-align: top;\n",
       "    }\n",
       "\n",
       "    .dataframe thead th {\n",
       "        text-align: right;\n",
       "    }\n",
       "</style>\n",
       "<table border=\"1\" class=\"dataframe\">\n",
       "  <thead>\n",
       "    <tr style=\"text-align: right;\">\n",
       "      <th></th>\n",
       "      <th>title</th>\n",
       "      <th>author</th>\n",
       "      <th>year</th>\n",
       "      <th>publisher</th>\n",
       "      <th>Image-URL-S</th>\n",
       "      <th>Image-URL-M</th>\n",
       "      <th>Image-URL-L</th>\n",
       "    </tr>\n",
       "    <tr>\n",
       "      <th>ISBN</th>\n",
       "      <th></th>\n",
       "      <th></th>\n",
       "      <th></th>\n",
       "      <th></th>\n",
       "      <th></th>\n",
       "      <th></th>\n",
       "      <th></th>\n",
       "    </tr>\n",
       "  </thead>\n",
       "  <tbody>\n",
       "    <tr>\n",
       "      <th>1844262553</th>\n",
       "      <td>Free</td>\n",
       "      <td>Paul Vincent</td>\n",
       "      <td>2003</td>\n",
       "      <td>Upfront Publishing</td>\n",
       "      <td>http://images.amazon.com/images/P/1844262553.0...</td>\n",
       "      <td>http://images.amazon.com/images/P/1844262553.0...</td>\n",
       "      <td>http://images.amazon.com/images/P/1844262553.0...</td>\n",
       "    </tr>\n",
       "    <tr>\n",
       "      <th>0590353403</th>\n",
       "      <td>Harry Potter and the Sorcerer's Stone (Book 1)</td>\n",
       "      <td>J. K. Rowling</td>\n",
       "      <td>1998</td>\n",
       "      <td>Scholastic</td>\n",
       "      <td>http://images.amazon.com/images/P/0590353403.0...</td>\n",
       "      <td>http://images.amazon.com/images/P/0590353403.0...</td>\n",
       "      <td>http://images.amazon.com/images/P/0590353403.0...</td>\n",
       "    </tr>\n",
       "    <tr>\n",
       "      <th>0439139597</th>\n",
       "      <td>Harry Potter and the Goblet of Fire (Book 4)</td>\n",
       "      <td>J. K. Rowling</td>\n",
       "      <td>2000</td>\n",
       "      <td>Scholastic</td>\n",
       "      <td>http://images.amazon.com/images/P/0439139597.0...</td>\n",
       "      <td>http://images.amazon.com/images/P/0439139597.0...</td>\n",
       "      <td>http://images.amazon.com/images/P/0439139597.0...</td>\n",
       "    </tr>\n",
       "    <tr>\n",
       "      <th>0439136350</th>\n",
       "      <td>Harry Potter and the Prisoner of Azkaban (Book 3)</td>\n",
       "      <td>J. K. Rowling</td>\n",
       "      <td>1999</td>\n",
       "      <td>Scholastic</td>\n",
       "      <td>http://images.amazon.com/images/P/0439136350.0...</td>\n",
       "      <td>http://images.amazon.com/images/P/0439136350.0...</td>\n",
       "      <td>http://images.amazon.com/images/P/0439136350.0...</td>\n",
       "    </tr>\n",
       "    <tr>\n",
       "      <th>0439064864</th>\n",
       "      <td>Harry Potter and the Chamber of Secrets (Book 2)</td>\n",
       "      <td>J. K. Rowling</td>\n",
       "      <td>1999</td>\n",
       "      <td>Scholastic</td>\n",
       "      <td>http://images.amazon.com/images/P/0439064864.0...</td>\n",
       "      <td>http://images.amazon.com/images/P/0439064864.0...</td>\n",
       "      <td>http://images.amazon.com/images/P/0439064864.0...</td>\n",
       "    </tr>\n",
       "  </tbody>\n",
       "</table>\n",
       "</div>"
      ],
      "text/plain": [
       "                                                        title         author  \\\n",
       "ISBN                                                                           \n",
       "1844262553                                               Free   Paul Vincent   \n",
       "0590353403     Harry Potter and the Sorcerer's Stone (Book 1)  J. K. Rowling   \n",
       "0439139597       Harry Potter and the Goblet of Fire (Book 4)  J. K. Rowling   \n",
       "0439136350  Harry Potter and the Prisoner of Azkaban (Book 3)  J. K. Rowling   \n",
       "0439064864   Harry Potter and the Chamber of Secrets (Book 2)  J. K. Rowling   \n",
       "\n",
       "            year           publisher  \\\n",
       "ISBN                                   \n",
       "1844262553  2003  Upfront Publishing   \n",
       "0590353403  1998          Scholastic   \n",
       "0439139597  2000          Scholastic   \n",
       "0439136350  1999          Scholastic   \n",
       "0439064864  1999          Scholastic   \n",
       "\n",
       "                                                  Image-URL-S  \\\n",
       "ISBN                                                            \n",
       "1844262553  http://images.amazon.com/images/P/1844262553.0...   \n",
       "0590353403  http://images.amazon.com/images/P/0590353403.0...   \n",
       "0439139597  http://images.amazon.com/images/P/0439139597.0...   \n",
       "0439136350  http://images.amazon.com/images/P/0439136350.0...   \n",
       "0439064864  http://images.amazon.com/images/P/0439064864.0...   \n",
       "\n",
       "                                                  Image-URL-M  \\\n",
       "ISBN                                                            \n",
       "1844262553  http://images.amazon.com/images/P/1844262553.0...   \n",
       "0590353403  http://images.amazon.com/images/P/0590353403.0...   \n",
       "0439139597  http://images.amazon.com/images/P/0439139597.0...   \n",
       "0439136350  http://images.amazon.com/images/P/0439136350.0...   \n",
       "0439064864  http://images.amazon.com/images/P/0439064864.0...   \n",
       "\n",
       "                                                  Image-URL-L  \n",
       "ISBN                                                           \n",
       "1844262553  http://images.amazon.com/images/P/1844262553.0...  \n",
       "0590353403  http://images.amazon.com/images/P/0590353403.0...  \n",
       "0439139597  http://images.amazon.com/images/P/0439139597.0...  \n",
       "0439136350  http://images.amazon.com/images/P/0439136350.0...  \n",
       "0439064864  http://images.amazon.com/images/P/0439064864.0...  "
      ]
     },
     "execution_count": 80,
     "metadata": {},
     "output_type": "execute_result"
    }
   ],
   "source": [
    "# Generate 10 recommendation for user 500\n",
    "get_top_highest_unrated(estimator=svd_model,\n",
    "                        k=5,\n",
    "                        userid=100,\n",
    "                        rating_data=data.df,\n",
    "                        metadata=book_data)"
   ]
  }
 ],
 "metadata": {
  "kernelspec": {
   "display_name": "Python 3",
   "language": "python",
   "name": "python3"
  },
  "language_info": {
   "codemirror_mode": {
    "name": "ipython",
    "version": 3
   },
   "file_extension": ".py",
   "mimetype": "text/x-python",
   "name": "python",
   "nbconvert_exporter": "python",
   "pygments_lexer": "ipython3",
   "version": "3.11.1 (tags/v3.11.1:a7a450f, Dec  6 2022, 19:58:39) [MSC v.1934 64 bit (AMD64)]"
  },
  "orig_nbformat": 4,
  "vscode": {
   "interpreter": {
    "hash": "614e2ec185128cd4a32d2d74eda127a70623627fdf0391f1242db67ab2e47d14"
   }
  }
 },
 "nbformat": 4,
 "nbformat_minor": 2
}
